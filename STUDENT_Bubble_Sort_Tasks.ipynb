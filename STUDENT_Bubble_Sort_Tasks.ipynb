{
  "nbformat": 4,
  "nbformat_minor": 0,
  "metadata": {
    "colab": {
      "provenance": [],
      "include_colab_link": true
    },
    "kernelspec": {
      "name": "python3",
      "display_name": "Python 3"
    }
  },
  "cells": [
    {
      "cell_type": "markdown",
      "metadata": {
        "id": "view-in-github",
        "colab_type": "text"
      },
      "source": [
        "<a href=\"https://colab.research.google.com/github/MrWheelerFHS/SendASmile-RadioTransmitterBaseLesson/blob/master/STUDENT_Bubble_Sort_Tasks.ipynb\" target=\"_parent\"><img src=\"https://colab.research.google.com/assets/colab-badge.svg\" alt=\"Open In Colab\"/></a>"
      ]
    },
    {
      "cell_type": "markdown",
      "metadata": {
        "id": "-NBqO9edA-oX"
      },
      "source": [
        "**Task 1. - Passover an array of data elements**\n",
        "\n",
        "---\n",
        "A Bubble sort is an algorithm that is used to sort an array of numbers or letters.  To do this you have to be able to access all data elements in an array.  \n",
        "\n",
        "Lets start by writing an algorithm that will use a for loop to access all 10 numbers in the array and print them out on the screen.\n",
        "\n",
        "*Hint: Remember a for loop will let you set the number of times you want to repeat and the control variable will work as a pointer that points to index positions in your array.*\n",
        "\n",
        "The screen would output:\n",
        "```\n",
        "319\n",
        "104\n",
        "76\n",
        "29\n",
        "171\n",
        "470\n",
        "956\n",
        "232\n",
        "391\n",
        "962\n",
        "```\n",
        "\n"
      ]
    },
    {
      "cell_type": "code",
      "metadata": {
        "id": "S7Y-eFeWA-EX"
      },
      "source": [
        "# TASK 1\n",
        "numbers = [319,104,76,29,171,470,956,232,391,962]\n",
        "\n"
      ],
      "execution_count": null,
      "outputs": []
    },
    {
      "cell_type": "markdown",
      "metadata": {
        "id": "ntm14MyICbpi"
      },
      "source": [
        "**Task 2. - Print sets of two array elements**\n",
        "\n",
        "---\n",
        "A Bubble sort doesn't just access one data element, it accesses two at a time (the two elements next to each other).  Extend the algorithm to print out not only the element that matches the loops control variable but also print out the next to it in the array.\n",
        "\n",
        "*Hint: the variable passover holds the loop number and we use it to indicate the index position in the array, try adding +1 to it.*\n",
        "\n",
        "The screen would output:\n",
        "```\n",
        "319 104\n",
        "104 76\n",
        "76 29\n",
        "29 171\n",
        "171 470\n",
        "470 956\n",
        "956 232\n",
        "232 391\n",
        "391 962\n",
        "```\n",
        "\n",
        "Why might your program crash if you use (0,10,1) as your range in your for loop ?"
      ]
    },
    {
      "cell_type": "code",
      "metadata": {
        "id": "MyWIaMrZCmOo"
      },
      "source": [
        "# TASK 2. (Copy and paste your task 1 algorithm and extend)\n",
        "numbers = [319,104,76,29,171,470,956,232,391,962]\n",
        "\n"
      ],
      "execution_count": null,
      "outputs": []
    },
    {
      "cell_type": "markdown",
      "metadata": {
        "id": "YSZ8IvyaEyGH"
      },
      "source": [
        "**Task 3. Swap the numbers**\n",
        "\n",
        "---\n",
        "\n",
        "In a Bubble sort it is important that you understand how to swap values in an array.  Practice this by writting a new algorithm that swaps the number in index position 0 with the value in index position 1.\n",
        "\n",
        "At this point we will not compare them but instead just practice swapping numbers in an array.  \n",
        "\n",
        "The screen would output:\n",
        "```\n",
        "[319, 104]\n",
        "[104, 319]\n",
        "```"
      ]
    },
    {
      "cell_type": "code",
      "metadata": {
        "id": "atJQYrdSGg7f"
      },
      "source": [
        "# TASK 3. (New algorithm)\n",
        "numbers = [319,104]\n"
      ],
      "execution_count": null,
      "outputs": []
    },
    {
      "cell_type": "markdown",
      "metadata": {
        "id": "8usa7axKGYQE"
      },
      "source": [
        "**Task 4: Compare & swap values**\n",
        "\n",
        "---\n",
        "\n",
        "So far we have practiced:\n",
        "* accessing all array data elements\n",
        "* accessing two array data elements at a time\n",
        "* swapping two values within an array\n",
        "\n",
        "A bubble sort needs to compare the two numbers that are held next to each other, is numbers[1] greater than numbers[1+1].  If True then swap the values inside the array.\n",
        "\n",
        "At the end of the program print the whole array, if successful the largest value should be at the right hand side of the array.  (Bubbled to the top).\n",
        "\n",
        "*Hint: You have already created the swap program, instead of hard coded index position use the loop control variable as a pointer.*\n",
        "\n",
        "\n",
        "The screen would output:\n",
        "```\n",
        "[104, 76, 29, 171, 319, 470, 232, 391, 956, 962]\n",
        "```\n",
        "\n"
      ]
    },
    {
      "cell_type": "code",
      "metadata": {
        "id": "vvDtJRs1FqQw"
      },
      "source": [
        "# TASK 4. (Copy and paste your task 2 extend by including experience from task 3)\n",
        "\n"
      ],
      "execution_count": null,
      "outputs": []
    },
    {
      "cell_type": "markdown",
      "metadata": {
        "id": "jykURbfoN3UG"
      },
      "source": [
        "**Task 5. Repeat, repeat, repeat.**\n",
        "\n",
        "---\n",
        "\n",
        "The final step is to repeat the whole algorithm.\n",
        "\n",
        "Extend the algorithm to loop the last algorithm for as many times as you have numbers in the array.  So if in total you have 10 numbers in the array repeat the algorith 10 times.\n",
        "\n",
        "Each time the algorithm repeat it forces the next largest number to bubble to the top.\n",
        "\n",
        "Finally make sure to print out the whole array to see the fully sorted array.\n",
        "\n",
        "\n",
        "The screen would output:\n",
        "```\n",
        "[29, 76, 104, 171, 232, 319, 391, 470, 956, 962]\n",
        "```\n",
        "\n"
      ]
    },
    {
      "cell_type": "code",
      "metadata": {
        "id": "pWTFHPVBOgwq"
      },
      "source": [
        "# TASK 5. (Copy and paste your task 4 then extend)\n",
        "\n"
      ],
      "execution_count": null,
      "outputs": []
    }
  ]
}